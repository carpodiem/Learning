{
 "cells": [
  {
   "cell_type": "code",
   "execution_count": 10,
   "metadata": {
    "collapsed": false
   },
   "outputs": [],
   "source": [
    "#класс Node для определения элемента списка\n",
    "class Node:\n",
    "    def __init__(self, value=None, next=None):\n",
    "        self.value = value\n",
    "        self.next = next\n",
    "\n",
    "#создаем ксласс связанный список\n",
    "class LinkedList:\n",
    "    def __init__(self):\n",
    "        self.first = None\n",
    "        self.last = None\n",
    "        self.length = 0\n",
    "\n",
    "#для вывода списка используем внутреннюю функцию        \n",
    "    def __str__(self):\n",
    "        if self.first:\n",
    "            current = self.first\n",
    "            out = '[' + str(current.value) + ' > '\n",
    "            while current.next:\n",
    "                current = current.next\n",
    "                if current.next == None:\n",
    "                    out += str(current.value)\n",
    "                else:\n",
    "                    out += str(current.value) + ' > '\n",
    "            return out + ']'\n",
    "        return '[]'\n",
    "\n",
    "#     def clear(self):\n",
    "#         self.__init__()\n",
    "\n",
    "#функция для добавления элементов в список\n",
    "    def add(self, x):\n",
    "            self.length += 1\n",
    "            if self.first == None:\n",
    "                #self.first и self.last будут указывать на одну область памяти\n",
    "                self.last = self.first = Node(x, None)\n",
    "            else:\n",
    "                #здесь, уже на разные, т.к. произошло присваивание\n",
    "                self.last.next = self.last = Node(x, None)\n",
    "\n",
    "#функция для переворачивания списка                \n",
    "    def reverse_list(self):\n",
    "        sfirst = self.first\n",
    "        snext = sfirst.next\n",
    "        snextnext = snext.next\n",
    "        self.last = sfirst\n",
    "        self.first.next = None\n",
    "        self.first, self.first.next = snext, sfirst\n",
    "        while snextnext:\n",
    "            sfirst, snext = snext, snextnext\n",
    "            snextnext, snext.next = snextnext.next, sfirst\n",
    "            self.first = snext\n",
    "        return self"
   ]
  },
  {
   "cell_type": "code",
   "execution_count": 13,
   "metadata": {
    "collapsed": false
   },
   "outputs": [
    {
     "name": "stdout",
     "output_type": "stream",
     "text": [
      "Связанный список:  [12 > 42 > 56 > 37 > 85]\n",
      "Переверот:  [85 > 37 > 56 > 42 > 12]\n"
     ]
    }
   ],
   "source": [
    "linked = LinkedList()\n",
    "linked.add(12)\n",
    "linked.add(42)\n",
    "linked.add(56)\n",
    "linked.add(37)\n",
    "linked.add(85)\n",
    "\n",
    "print('Связанный список: ', linked)\n",
    "print('Переверот: ', linked.reverse_list())"
   ]
  },
  {
   "cell_type": "code",
   "execution_count": null,
   "metadata": {
    "collapsed": true
   },
   "outputs": [],
   "source": [
    ""
   ]
  }
 ],
 "metadata": {
  "kernelspec": {
   "display_name": "Python 3",
   "language": "python",
   "name": "python3"
  },
  "language_info": {
   "codemirror_mode": {
    "name": "ipython",
    "version": 3.0
   },
   "file_extension": ".py",
   "mimetype": "text/x-python",
   "name": "python",
   "nbconvert_exporter": "python",
   "pygments_lexer": "ipython3",
   "version": "3.6.0"
  }
 },
 "nbformat": 4,
 "nbformat_minor": 0
}