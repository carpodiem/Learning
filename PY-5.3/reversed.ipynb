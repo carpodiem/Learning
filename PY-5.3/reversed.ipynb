{
 "cells": [
  {
   "cell_type": "code",
   "execution_count": 107,
   "metadata": {
    "collapsed": false
   },
   "outputs": [
    {
     "data": {
      "text/plain": [
       "[91, 58, 67, 43, 3, 76, 14, 12]"
      ]
     },
     "execution_count": 107,
     "metadata": {},
     "output_type": "execute_result"
    }
   ],
   "source": [
    "linked_l = [12,14,76,3,43,67,58,91]\n",
    "\n",
    "reversed_l = []\n",
    "\n",
    "for ix in range(len(linked_l)):\n",
    "  reversed_l.append(linked_l[len(linked_l) - ix - 1])\n",
    "  \n",
    "reversed_l"
   ]
  },
  {
   "cell_type": "code",
   "execution_count": 109,
   "metadata": {
    "collapsed": false
   },
   "outputs": [
    {
     "data": {
      "text/plain": [
       "[12, 14, 76, 3, 43, 67, 58, 91]"
      ]
     },
     "execution_count": 109,
     "metadata": {},
     "output_type": "execute_result"
    }
   ],
   "source": [
    "def reverse(listed, l=[]):\n",
    "    if len(listed) <= 0:\n",
    "        return l\n",
    "    l.append(listed[0])\n",
    "    return reverse(listed[1:], l)\n",
    "\n",
    "l = reverse(linked_l)\n",
    "\n",
    "l"
   ]
  },
  {
   "cell_type": "code",
   "execution_count": null,
   "metadata": {
    "collapsed": true
   },
   "outputs": [],
   "source": [
    ""
   ]
  }
 ],
 "metadata": {
  "kernelspec": {
   "display_name": "Python 3",
   "language": "python",
   "name": "python3"
  },
  "language_info": {
   "codemirror_mode": {
    "name": "ipython",
    "version": 3.0
   },
   "file_extension": ".py",
   "mimetype": "text/x-python",
   "name": "python",
   "nbconvert_exporter": "python",
   "pygments_lexer": "ipython3",
   "version": "3.6.0"
  }
 },
 "nbformat": 4,
 "nbformat_minor": 0
}