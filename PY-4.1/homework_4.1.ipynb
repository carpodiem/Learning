{
 "cells": [
  {
   "cell_type": "code",
   "execution_count": 1,
   "metadata": {
    "collapsed": true
   },
   "outputs": [],
   "source": [
    "import pandas as pd\n",
    "\n",
    "import numpy as np\n",
    "\n",
    "import matplotlib.pyplot as plt\n",
    "\n",
    "%matplotlib inline"
   ]
  },
  {
   "cell_type": "code",
   "execution_count": 2,
   "metadata": {
    "collapsed": true
   },
   "outputs": [],
   "source": [
    "names_path = 'D:\\Project\\GitHub\\Learning\\PY-4.1\\\\names\\\\'\n",
    "cols = ['Name','Gender','Count']"
   ]
  },
  {
   "cell_type": "code",
   "execution_count": 3,
   "metadata": {
    "collapsed": false
   },
   "outputs": [],
   "source": [
    "def agg_count(row):\n",
    "    row.Count = int(row.Count + row.Count_newyear)\n",
    "    return row"
   ]
  },
  {
   "cell_type": "code",
   "execution_count": 4,
   "metadata": {
    "collapsed": false,
    "scrolled": true
   },
   "outputs": [
    {
     "data": {
      "text/html": [
       "<div>\n",
       "<table border=\"1\" class=\"dataframe\">\n",
       "  <thead>\n",
       "    <tr style=\"text-align: right;\">\n",
       "      <th></th>\n",
       "      <th>Name</th>\n",
       "      <th>Gender</th>\n",
       "      <th>Count</th>\n",
       "    </tr>\n",
       "  </thead>\n",
       "  <tbody>\n",
       "    <tr>\n",
       "      <th>15233</th>\n",
       "      <td>Michael</td>\n",
       "      <td>M</td>\n",
       "      <td>204077</td>\n",
       "    </tr>\n",
       "    <tr>\n",
       "      <th>15234</th>\n",
       "      <td>Christopher</td>\n",
       "      <td>M</td>\n",
       "      <td>159098</td>\n",
       "    </tr>\n",
       "    <tr>\n",
       "      <th>15235</th>\n",
       "      <td>Matthew</td>\n",
       "      <td>M</td>\n",
       "      <td>150438</td>\n",
       "    </tr>\n",
       "  </tbody>\n",
       "</table>\n",
       "</div>"
      ],
      "text/plain": [
       "              Name Gender   Count\n",
       "15233      Michael      M  204077\n",
       "15234  Christopher      M  159098\n",
       "15235      Matthew      M  150438"
      ]
     },
     "execution_count": 4,
     "metadata": {},
     "output_type": "execute_result"
    }
   ],
   "source": [
    "def count_top3_names(years_list):\n",
    "    names_in_years = pd.read_csv(names_path + 'yob' + str(years_list[0]) + '.txt', names=cols)\n",
    "    for year in years_list[1:]:\n",
    "        year_str = str(year)\n",
    "        names = pd.read_csv(names_path + 'yob' + year_str + '.txt', names=cols)\n",
    "        names_in_years = pd.merge(names_in_years, names, on=['Name','Gender'], how='outer', suffixes=['', '_newyear'])\n",
    "        names_in_years = names_in_years.fillna(0)\n",
    "        names_in_years = names_in_years.apply(agg_count, axis=1)\n",
    "        names_in_years = names_in_years.drop('Count_newyear', axis=1)\n",
    "    return names_in_years\n",
    "\n",
    "count_top3_names([1990, 1991, 1995, 1998]).sort_values(by='Count', ascending=False).head(3)"
   ]
  },
  {
   "cell_type": "code",
   "execution_count": 20,
   "metadata": {
    "collapsed": false
   },
   "outputs": [
    {
     "data": {
      "text/html": [
       "<div>\n",
       "<table border=\"1\" class=\"dataframe\">\n",
       "  <thead>\n",
       "    <tr style=\"text-align: right;\">\n",
       "      <th></th>\n",
       "      <th>M</th>\n",
       "      <th>F</th>\n",
       "    </tr>\n",
       "  </thead>\n",
       "  <tbody>\n",
       "    <tr>\n",
       "      <th>1970</th>\n",
       "      <td>1859647</td>\n",
       "      <td>1748250</td>\n",
       "    </tr>\n",
       "    <tr>\n",
       "      <th>1980</th>\n",
       "      <td>1784088</td>\n",
       "      <td>1660042</td>\n",
       "    </tr>\n",
       "    <tr>\n",
       "      <th>1990</th>\n",
       "      <td>2052662</td>\n",
       "      <td>1897807</td>\n",
       "    </tr>\n",
       "  </tbody>\n",
       "</table>\n",
       "</div>"
      ],
      "text/plain": [
       "            M        F\n",
       "1970  1859647  1748250\n",
       "1980  1784088  1660042\n",
       "1990  2052662  1897807"
      ]
     },
     "execution_count": 20,
     "metadata": {},
     "output_type": "execute_result"
    }
   ],
   "source": [
    "def count_dynamics(years_list):\n",
    "    razrez = pd.DataFrame(index=years_list, columns=list('MF'))\n",
    "    for year in years_list:\n",
    "        year_str = str(year)\n",
    "        names = pd.read_csv(names_path + 'yob' + year_str + '.txt', names=cols)\n",
    "        male_count = names[names.Gender == 'M'].Count.sum()\n",
    "        female_count = names[names.Gender == 'F'].Count.sum()\n",
    "        razrez.at[year,'F'] = female_count\n",
    "        razrez.at[year,'M'] = male_count\n",
    "    return razrez\n",
    "\n",
    "count_dynamics([1970,1980,1990])"
   ]
  }
 ],
 "metadata": {
  "kernelspec": {
   "display_name": "Python 3",
   "language": "python",
   "name": "python3"
  },
  "language_info": {
   "codemirror_mode": {
    "name": "ipython",
    "version": 3.0
   },
   "file_extension": ".py",
   "mimetype": "text/x-python",
   "name": "python",
   "nbconvert_exporter": "python",
   "pygments_lexer": "ipython3",
   "version": "3.6.0"
  }
 },
 "nbformat": 4,
 "nbformat_minor": 0
}